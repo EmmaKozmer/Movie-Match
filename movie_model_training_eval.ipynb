{
 "cells": [
  {
   "cell_type": "code",
   "execution_count": 1,
   "id": "600f5f49",
   "metadata": {},
   "outputs": [
    {
     "name": "stdout",
     "output_type": "stream",
     "text": [
      "Requirement already satisfied: torch in /Library/Frameworks/Python.framework/Versions/3.10/lib/python3.10/site-packages (2.2.2)\n",
      "Requirement already satisfied: filelock in /Library/Frameworks/Python.framework/Versions/3.10/lib/python3.10/site-packages (from torch) (3.13.3)\n",
      "Requirement already satisfied: fsspec in /Library/Frameworks/Python.framework/Versions/3.10/lib/python3.10/site-packages (from torch) (2024.3.1)\n",
      "Requirement already satisfied: sympy in /Library/Frameworks/Python.framework/Versions/3.10/lib/python3.10/site-packages (from torch) (1.12)\n",
      "Requirement already satisfied: typing-extensions>=4.8.0 in /Library/Frameworks/Python.framework/Versions/3.10/lib/python3.10/site-packages (from torch) (4.11.0)\n",
      "Requirement already satisfied: networkx in /Library/Frameworks/Python.framework/Versions/3.10/lib/python3.10/site-packages (from torch) (3.2.1)\n",
      "Requirement already satisfied: jinja2 in /Users/emmakozmer/Library/Python/3.10/lib/python/site-packages (from torch) (3.1.2)\n",
      "Requirement already satisfied: MarkupSafe>=2.0 in /Users/emmakozmer/Library/Python/3.10/lib/python/site-packages (from jinja2->torch) (2.1.1)\n",
      "Requirement already satisfied: mpmath>=0.19 in /Library/Frameworks/Python.framework/Versions/3.10/lib/python3.10/site-packages (from sympy->torch) (1.3.0)\n",
      "--- Logging error ---\n",
      "Traceback (most recent call last):\n",
      "  File \"/Library/Frameworks/Python.framework/Versions/3.10/lib/python3.10/site-packages/pip/_internal/utils/logging.py\", line 177, in emit\n",
      "    self.console.print(renderable, overflow=\"ignore\", crop=False, style=style)\n",
      "  File \"/Library/Frameworks/Python.framework/Versions/3.10/lib/python3.10/site-packages/pip/_vendor/rich/console.py\", line 1673, in print\n",
      "    extend(render(renderable, render_options))\n",
      "  File \"/Library/Frameworks/Python.framework/Versions/3.10/lib/python3.10/site-packages/pip/_vendor/rich/console.py\", line 1305, in render\n",
      "    for render_output in iter_render:\n",
      "  File \"/Library/Frameworks/Python.framework/Versions/3.10/lib/python3.10/site-packages/pip/_internal/utils/logging.py\", line 134, in __rich_console__\n",
      "    for line in lines:\n",
      "  File \"/Library/Frameworks/Python.framework/Versions/3.10/lib/python3.10/site-packages/pip/_vendor/rich/segment.py\", line 249, in split_lines\n",
      "    for segment in segments:\n",
      "  File \"/Library/Frameworks/Python.framework/Versions/3.10/lib/python3.10/site-packages/pip/_vendor/rich/console.py\", line 1283, in render\n",
      "    renderable = rich_cast(renderable)\n",
      "  File \"/Library/Frameworks/Python.framework/Versions/3.10/lib/python3.10/site-packages/pip/_vendor/rich/protocol.py\", line 36, in rich_cast\n",
      "    renderable = cast_method()\n",
      "  File \"/Library/Frameworks/Python.framework/Versions/3.10/lib/python3.10/site-packages/pip/_internal/self_outdated_check.py\", line 130, in __rich__\n",
      "    pip_cmd = get_best_invocation_for_this_pip()\n",
      "  File \"/Library/Frameworks/Python.framework/Versions/3.10/lib/python3.10/site-packages/pip/_internal/utils/entrypoints.py\", line 58, in get_best_invocation_for_this_pip\n",
      "    if found_executable and os.path.samefile(\n",
      "  File \"/Library/Frameworks/Python.framework/Versions/3.10/lib/python3.10/genericpath.py\", line 101, in samefile\n",
      "    s2 = os.stat(f2)\n",
      "FileNotFoundError: [Errno 2] No such file or directory: '/Library/Frameworks/Python.framework/Versions/3.10/bin/pip'\n",
      "Call stack:\n",
      "  File \"/Library/Frameworks/Python.framework/Versions/3.10/lib/python3.10/runpy.py\", line 196, in _run_module_as_main\n",
      "    return _run_code(code, main_globals, None,\n",
      "  File \"/Library/Frameworks/Python.framework/Versions/3.10/lib/python3.10/runpy.py\", line 86, in _run_code\n",
      "    exec(code, run_globals)\n",
      "  File \"/Library/Frameworks/Python.framework/Versions/3.10/lib/python3.10/site-packages/pip/__main__.py\", line 31, in <module>\n",
      "    sys.exit(_main())\n",
      "  File \"/Library/Frameworks/Python.framework/Versions/3.10/lib/python3.10/site-packages/pip/_internal/cli/main.py\", line 70, in main\n",
      "    return command.main(cmd_args)\n",
      "  File \"/Library/Frameworks/Python.framework/Versions/3.10/lib/python3.10/site-packages/pip/_internal/cli/base_command.py\", line 101, in main\n",
      "    return self._main(args)\n",
      "  File \"/Library/Frameworks/Python.framework/Versions/3.10/lib/python3.10/site-packages/pip/_internal/cli/base_command.py\", line 223, in _main\n",
      "    self.handle_pip_version_check(options)\n",
      "  File \"/Library/Frameworks/Python.framework/Versions/3.10/lib/python3.10/site-packages/pip/_internal/cli/req_command.py\", line 190, in handle_pip_version_check\n",
      "    pip_self_version_check(session, options)\n",
      "  File \"/Library/Frameworks/Python.framework/Versions/3.10/lib/python3.10/site-packages/pip/_internal/self_outdated_check.py\", line 236, in pip_self_version_check\n",
      "    logger.warning(\"[present-rich] %s\", upgrade_prompt)\n",
      "  File \"/Library/Frameworks/Python.framework/Versions/3.10/lib/python3.10/logging/__init__.py\", line 1489, in warning\n",
      "    self._log(WARNING, msg, args, **kwargs)\n",
      "  File \"/Library/Frameworks/Python.framework/Versions/3.10/lib/python3.10/logging/__init__.py\", line 1624, in _log\n",
      "    self.handle(record)\n",
      "  File \"/Library/Frameworks/Python.framework/Versions/3.10/lib/python3.10/logging/__init__.py\", line 1634, in handle\n",
      "    self.callHandlers(record)\n",
      "  File \"/Library/Frameworks/Python.framework/Versions/3.10/lib/python3.10/logging/__init__.py\", line 1696, in callHandlers\n",
      "    hdlr.handle(record)\n",
      "  File \"/Library/Frameworks/Python.framework/Versions/3.10/lib/python3.10/logging/__init__.py\", line 968, in handle\n",
      "    self.emit(record)\n",
      "  File \"/Library/Frameworks/Python.framework/Versions/3.10/lib/python3.10/site-packages/pip/_internal/utils/logging.py\", line 179, in emit\n",
      "    self.handleError(record)\n",
      "Message: '[present-rich] %s'\n",
      "Arguments: (UpgradePrompt(old='22.2.2', new='24.0'),)\n",
      "Note: you may need to restart the kernel to use updated packages.\n"
     ]
    }
   ],
   "source": [
    "pip install torch"
   ]
  },
  {
   "cell_type": "code",
   "execution_count": 2,
   "id": "6b59494a-2ab1-4219-933e-e450bcbb3231",
   "metadata": {},
   "outputs": [],
   "source": [
    "import torch\n",
    "import torch.nn as nn\n",
    "import torch.optim as optim\n",
    "\n",
    "from torch.utils.data import DataLoader, Dataset"
   ]
  },
  {
   "cell_type": "code",
   "execution_count": 3,
   "id": "6b4eb945-b914-4f55-b42e-6da9c4e76a7a",
   "metadata": {},
   "outputs": [],
   "source": [
    "class MovieIDPredictor(nn.Module):\n",
    "    def __init__(self, num_years, num_genres, num_movie_ids, year_embedding_dim=8, genre_embedding_dim=8, transformer_heads=8, transformer_layers=1, transformer_dim=64):\n",
    "        super(MovieIDPredictor, self).__init__()\n",
    "        # Define dimensions as instance attributes\n",
    "        self.year_embedding_dim = year_embedding_dim\n",
    "        self.genre_embedding_dim = genre_embedding_dim\n",
    "        self.transformer_dim = transformer_dim\n",
    "\n",
    "        self.year_embedding = nn.Embedding(num_years, self.year_embedding_dim)\n",
    "        self.genre_embedding = nn.Embedding(num_genres, self.genre_embedding_dim)\n",
    "\n",
    "        # TransformerEncoder expects the input dimension (d_model) to match the transformer_dim\n",
    "        self.transformer = nn.TransformerEncoder(nn.TransformerEncoderLayer(d_model=self.transformer_dim, nhead=transformer_heads), num_layers=transformer_layers)\n",
    "        \n",
    "        # Adjust the rating linear layer to properly match the input and concatenated dimensions\n",
    "        self.rating_linear = nn.Linear(1, self.transformer_dim - self.year_embedding_dim - self.genre_embedding_dim)\n",
    "        \n",
    "        # Output layer to classify movie IDs\n",
    "        self.fc_out = nn.Linear(self.transformer_dim, num_movie_ids)\n",
    "        \n",
    "    def forward(self, year, genre, rating):\n",
    "        year_emb = self.year_embedding(year).view(-1, 1, self.year_embedding_dim)\n",
    "        genre_emb = self.genre_embedding(genre).view(-1, 1, self.genre_embedding_dim)\n",
    "        \n",
    "        # Fix the view dimensions to match the transformer input size\n",
    "        rating_emb = self.rating_linear(rating.unsqueeze(-1)).view(-1, 1, self.transformer_dim - self.year_embedding_dim - self.genre_embedding_dim)\n",
    "        \n",
    "        x = torch.cat((year_emb, genre_emb, rating_emb), dim=-1)\n",
    "        x = self.transformer(x)\n",
    "        x = x.view(-1, self.transformer_dim)  # Reshape for the output layer\n",
    "        output = self.fc_out(x)\n",
    "        return output"
   ]
  },
  {
   "cell_type": "code",
   "execution_count": 4,
   "id": "e1245257-ade2-4a08-b665-84e120295ebc",
   "metadata": {},
   "outputs": [],
   "source": [
    "class MovieDataset(Dataset):\n",
    "    def __init__(self, years, genres, ratings, movie_ids):\n",
    "        self.years = years\n",
    "        self.genres = genres\n",
    "        self.ratings = ratings\n",
    "        self.movie_ids = movie_ids\n",
    "        \n",
    "    def __len__(self):\n",
    "        return len(self.years)\n",
    "        \n",
    "    def __getitem__(self, idx):\n",
    "        year = torch.tensor(self.years[idx] - 1888)  # Assuming year range starts from 1888\n",
    "        genre = torch.tensor(self.genres[idx])\n",
    "        rating = torch.tensor([self.ratings[idx]])\n",
    "        movie_id = torch.tensor(self.movie_ids[idx], dtype=torch.long)\n",
    "        return year, genre, rating, movie_id\n",
    "\n",
    "# Example data\n",
    "years = [1994, 2000, 1999, 2005, 2010]\n",
    "genres = [4, 1, 3, 2, 5]\n",
    "ratings = [8.5, 7.2, 9.0, 6.5, 7.8]\n",
    "movie_ids = [0, 1, 2, 3, 4]  # Example class indices for movie IDs\n",
    "\n",
    "dataset = MovieDataset(years=years, genres=genres, ratings=ratings, movie_ids=movie_ids)\n",
    "dataloader = DataLoader(dataset, batch_size=2, shuffle=True)\n"
   ]
  },
  {
   "cell_type": "code",
   "execution_count": 9,
   "id": "d2a18151-f9c7-4899-b247-2209639103e1",
   "metadata": {},
   "outputs": [
    {
     "name": "stdout",
     "output_type": "stream",
     "text": [
      "Epoch 1, Loss: 2.6201059818267822\n",
      "Epoch 2, Loss: 1.7572002410888672\n",
      "Epoch 3, Loss: 2.0883803367614746\n",
      "Epoch 4, Loss: 2.004603862762451\n",
      "Epoch 5, Loss: 1.6926970481872559\n",
      "Epoch 6, Loss: 1.3197959661483765\n",
      "Epoch 7, Loss: 2.1050262451171875\n",
      "Epoch 8, Loss: 1.8066092729568481\n",
      "Epoch 9, Loss: 1.0749341249465942\n",
      "Epoch 10, Loss: 1.7641313076019287\n",
      "Epoch 11, Loss: 1.196860671043396\n",
      "Epoch 12, Loss: 1.215781807899475\n",
      "Epoch 13, Loss: 0.991085946559906\n",
      "Epoch 14, Loss: 1.2268166542053223\n",
      "Epoch 15, Loss: 0.8460947871208191\n",
      "Epoch 16, Loss: 1.5335986614227295\n",
      "Epoch 17, Loss: 1.0021827220916748\n",
      "Epoch 18, Loss: 0.477432519197464\n",
      "Epoch 19, Loss: 0.9383726119995117\n",
      "Epoch 20, Loss: 0.31748390197753906\n"
     ]
    }
   ],
   "source": [
    "# Parameters and model initialization\n",
    "num_years = 2024 - 1888 + 1\n",
    "num_genres = 20\n",
    "num_movie_ids = 5  # Number of unique movie IDs in the sample dataset\n",
    "model = MovieIDPredictor(num_years=num_years, num_genres=num_genres, num_movie_ids=num_movie_ids)\n",
    "\n",
    "# Loss and optimizer\n",
    "criterion = nn.CrossEntropyLoss()\n",
    "optimizer = optim.Adam(model.parameters(), lr=0.001)\n",
    "\n",
    "# Training loop\n",
    "num_epochs = 20\n",
    "for epoch in range(num_epochs):\n",
    "    for year, genre, rating, movie_id in dataloader:\n",
    "        optimizer.zero_grad()\n",
    "        outputs = model(year, genre, rating)\n",
    "        loss = criterion(outputs, movie_id)\n",
    "        loss.backward()\n",
    "        optimizer.step()\n",
    "    print(f'Epoch {epoch+1}, Loss: {loss.item()}')\n"
   ]
  },
  {
   "cell_type": "code",
   "execution_count": 10,
   "id": "64f4b37f-15f2-4eaf-b120-185dfac06ebe",
   "metadata": {},
   "outputs": [],
   "source": [
    "torch.save(model.state_dict(), 'movie_predictor_model.pth')"
   ]
  },
  {
   "cell_type": "code",
   "execution_count": 11,
   "id": "4089e2ef-6777-43df-86a5-001681b6458f",
   "metadata": {},
   "outputs": [
    {
     "data": {
      "text/plain": [
       "MovieIDPredictor(\n",
       "  (year_embedding): Embedding(137, 8)\n",
       "  (genre_embedding): Embedding(20, 8)\n",
       "  (transformer): TransformerEncoder(\n",
       "    (layers): ModuleList(\n",
       "      (0): TransformerEncoderLayer(\n",
       "        (self_attn): MultiheadAttention(\n",
       "          (out_proj): NonDynamicallyQuantizableLinear(in_features=64, out_features=64, bias=True)\n",
       "        )\n",
       "        (linear1): Linear(in_features=64, out_features=2048, bias=True)\n",
       "        (dropout): Dropout(p=0.1, inplace=False)\n",
       "        (linear2): Linear(in_features=2048, out_features=64, bias=True)\n",
       "        (norm1): LayerNorm((64,), eps=1e-05, elementwise_affine=True)\n",
       "        (norm2): LayerNorm((64,), eps=1e-05, elementwise_affine=True)\n",
       "        (dropout1): Dropout(p=0.1, inplace=False)\n",
       "        (dropout2): Dropout(p=0.1, inplace=False)\n",
       "      )\n",
       "    )\n",
       "  )\n",
       "  (rating_linear): Linear(in_features=1, out_features=48, bias=True)\n",
       "  (fc_out): Linear(in_features=64, out_features=5, bias=True)\n",
       ")"
      ]
     },
     "execution_count": 11,
     "metadata": {},
     "output_type": "execute_result"
    }
   ],
   "source": [
    "loaded_model = MovieIDPredictor(num_years=num_years, num_genres=num_genres, num_movie_ids=num_movie_ids)\n",
    "\n",
    "# Load the state dictionary\n",
    "loaded_model.load_state_dict(torch.load('movie_predictor_model.pth'))\n",
    "\n",
    "# Set the model to evaluation mode\n",
    "loaded_model.eval()"
   ]
  },
  {
   "cell_type": "code",
   "execution_count": 14,
   "id": "b907e09d-02a1-420a-ace0-4d5cff60eb89",
   "metadata": {},
   "outputs": [
    {
     "name": "stdout",
     "output_type": "stream",
     "text": [
      "tensor([[ 1.1401,  2.8168, -0.6450, -0.2670, -1.9150],\n",
      "        [ 0.6575,  0.6791,  0.0517,  2.0141, -1.0081]])\n",
      "tensor([[ 0.8974, -1.4229,  2.8176, -0.0712, -0.8153],\n",
      "        [ 0.7505, -1.7163,  0.3867,  0.2974,  3.0293]])\n",
      "tensor([[ 2.1260,  0.9700,  0.2053, -0.4353, -1.2806]])\n",
      "Accuracy of the model on the evaluation dataset: 100.00%\n"
     ]
    }
   ],
   "source": [
    "correct = 0\n",
    "total = 0\n",
    "with torch.no_grad():  # No need to track gradients during evaluation\n",
    "    for year, genre, rating, movie_id in dataloader:  # Assuming you have a dataloader for your evaluation dataset\n",
    "        outputs = loaded_model(year, genre, rating)\n",
    "        _, predicted = torch.max(outputs.data, 1)  # Get the index of the max log-probability\n",
    "        total += movie_id.size(0)\n",
    "        correct += (predicted == movie_id).sum().item()\n",
    "\n",
    "accuracy = 100 * correct / total\n",
    "print(f'Accuracy of the model on the evaluation dataset: {accuracy:.2f}%')\n"
   ]
  },
  {
   "cell_type": "code",
   "execution_count": null,
   "id": "697f0985-133f-4ec7-9a97-3699a1ec07f4",
   "metadata": {},
   "outputs": [],
   "source": []
  }
 ],
 "metadata": {
  "kernelspec": {
   "display_name": "Python 3.10.7 64-bit",
   "language": "python",
   "name": "python3"
  },
  "language_info": {
   "codemirror_mode": {
    "name": "ipython",
    "version": 3
   },
   "file_extension": ".py",
   "mimetype": "text/x-python",
   "name": "python",
   "nbconvert_exporter": "python",
   "pygments_lexer": "ipython3",
   "version": "3.10.7"
  },
  "vscode": {
   "interpreter": {
    "hash": "aee8b7b246df8f9039afb4144a1f6fd8d2ca17a180786b69acc140d282b71a49"
   }
  }
 },
 "nbformat": 4,
 "nbformat_minor": 5
}
